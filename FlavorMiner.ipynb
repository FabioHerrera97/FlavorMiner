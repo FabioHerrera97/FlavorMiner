{
  "nbformat": 4,
  "nbformat_minor": 0,
  "metadata": {
    "colab": {
      "provenance": [],
      "authorship_tag": "ABX9TyPSQxZdvlLCOcVQlh7djanq",
      "include_colab_link": true
    },
    "kernelspec": {
      "name": "python3",
      "display_name": "Python 3"
    },
    "language_info": {
      "name": "python"
    }
  },
  "cells": [
    {
      "cell_type": "markdown",
      "metadata": {
        "id": "view-in-github",
        "colab_type": "text"
      },
      "source": [
        "<a href=\"https://colab.research.google.com/github/FabioHerrera97/FlavorMiner/blob/main/FlavorMiner.ipynb\" target=\"_parent\"><img src=\"https://colab.research.google.com/assets/colab-badge.svg\" alt=\"Open In Colab\"/></a>"
      ]
    },
    {
      "cell_type": "markdown",
      "source": [
        "# FlavorMiner: Instructions to Run\n",
        "\n",
        "This script contains the code necessary to run FlavorMiner. In oreder to run this code the user needs to organize the input data in an excel file containing either the PubChem ID or the isomeric smiles of the input compounds.\n",
        "\n",
        "Name the column containing the isomeric smiles \"Isomeric Smiles\". This way there is no need to manipulate the code to run the analyzes."
      ],
      "metadata": {
        "id": "aohJNY2BC4dU"
      }
    },
    {
      "cell_type": "markdown",
      "source": [
        "IMPORTANT: This script requires scikit-learn version 1.2.2. The models trained to perform the respective predictions were trained and saved in joblib files with this version, and a different version with end up with and error at the moment to run the code. Use the code below to install it, if necessary"
      ],
      "metadata": {
        "id": "Bdo6Fq9sVT1b"
      }
    },
    {
      "cell_type": "code",
      "source": [
        "!pip install -U scikit-learn==1.2.2"
      ],
      "metadata": {
        "id": "eFNtFZUyVVIm"
      },
      "execution_count": null,
      "outputs": []
    },
    {
      "cell_type": "code",
      "source": [
        "!pip install \"numpy<2.0\" pandas --upgrade --force-reinstall"
      ],
      "metadata": {
        "id": "xbPqjYMHT05H"
      },
      "execution_count": null,
      "outputs": []
    },
    {
      "cell_type": "markdown",
      "source": [
        "# 1. Upload the data\n",
        "\n",
        "The first step to use FlavorMiner is to upload the excel file containing the data. To do this in Google Colab go to *Files> Upload>Select the file>Open*.\n",
        "\n",
        "Then click the three dots on the right of the uploaded file and copy the path."
      ],
      "metadata": {
        "id": "EYD7xchSVxoR"
      }
    },
    {
      "cell_type": "code",
      "execution_count": null,
      "metadata": {
        "id": "T8SlyLBp8i_O"
      },
      "outputs": [],
      "source": [
        "import pandas as pd\n",
        "\n",
        "'''URL of the Excel file'''\n",
        "\n",
        "file_url = 'https://github.com/FabioHerrera97/FlavorMiner/raw/main/Data/Example.xlsx' # Copy here the path of the input file\n",
        "\n",
        "''' Read the Excel file'''\n",
        "\n",
        "data = pd.read_excel(file_url)\n",
        "\n",
        "''' Print the contents of the DataFrame'''\n",
        "\n",
        "data.head()"
      ]
    },
    {
      "cell_type": "markdown",
      "source": [
        "# 2. Matching the input data with the flavor database.\n",
        "\n",
        "IMPORTANT: This match is performed with the isomeric smiles, not the name of the compounds due to the lack of standardization in compounds name.\n",
        "\n",
        "This part of the code takes the provided isomeric smiles and perform a database match to exclude from the prediction those entries with already reported flavor profiles. This avoids adding unnnecessary uncertainty when there is experimental data available."
      ],
      "metadata": {
        "id": "YlSgcXLxZsgM"
      }
    },
    {
      "cell_type": "code",
      "source": [
        "''' Read the Excel file'''\n",
        "\n",
        "database = pd.read_excel('https://github.com/FabioHerrera97/FlavorMiner/raw/main/Data/LabelDataBase.xlsx')\n",
        "\n",
        "''' Print the contents of the DataFrame'''\n",
        "\n",
        "database.head()"
      ],
      "metadata": {
        "id": "SBwR4-n_CD6j"
      },
      "execution_count": null,
      "outputs": []
    },
    {
      "cell_type": "code",
      "source": [
        "db_matches = data[data['Isomeric Smiles'].isin(database['Isomeric Smiles'])]\n",
        "db_matches.head()"
      ],
      "metadata": {
        "id": "iZr7y2ZBFceE"
      },
      "execution_count": null,
      "outputs": []
    },
    {
      "cell_type": "markdown",
      "source": [
        "For this matches the flavor profile is assigned according the report in the database as well as a probability of 100% as their flavor profile is experimentally validated. Additionally, the source of the data recorded in the database is provided."
      ],
      "metadata": {
        "id": "sBLOWAnjdeTY"
      }
    },
    {
      "cell_type": "code",
      "source": [
        "columns = ['Bitter', 'Floral', 'Fruity', 'Off_flavor', 'Nutty', 'Sour', 'Sweet', 'Source']\n",
        "\n",
        "result_dict = {col: [] for col in columns}\n",
        "\n",
        "for smiles in db_matches['Isomeric Smiles']:\n",
        "    for col in columns:\n",
        "        values = database[database['Isomeric Smiles'] == smiles][col].values\n",
        "        result_dict[col].append(values[0])\n",
        "\n",
        "for col in columns:\n",
        "    db_matches = db_matches.copy()\n",
        "    db_matches[col] = result_dict[col]\n",
        "\n",
        "db_matches.head()"
      ],
      "metadata": {
        "id": "pkANbXty5ONz"
      },
      "execution_count": null,
      "outputs": []
    },
    {
      "cell_type": "markdown",
      "source": [
        "This data can be stored in an excel file. Run the following cell if you want to store it."
      ],
      "metadata": {
        "id": "Rpc_Fxo5KGme"
      }
    },
    {
      "cell_type": "code",
      "source": [
        "db_matches.to_excel('Database matches.xlsx', index=False)"
      ],
      "metadata": {
        "id": "T2FPmj4mkulN"
      },
      "execution_count": null,
      "outputs": []
    },
    {
      "cell_type": "markdown",
      "source": [
        "# 3. Obtaining the data without reported flavor profile\n",
        "\n",
        "The next step is obtaining the set of compounds without database matches. The structure of this molecules will be used for the prediction."
      ],
      "metadata": {
        "id": "sXeYhUtaI9R7"
      }
    },
    {
      "cell_type": "code",
      "source": [
        "non_matches = data[~data['Isomeric Smiles'].isin(database['Isomeric Smiles'])]\n",
        "non_matches.head()"
      ],
      "metadata": {
        "id": "Os8Tq7Rlrv3b"
      },
      "execution_count": null,
      "outputs": []
    },
    {
      "cell_type": "markdown",
      "source": [
        "# 4. Featurizing the compounds\n",
        "\n",
        "In order to run the prediction it is required to transform the molecular structure into the mathematical representation that the trained algorithms require: RDKit molecular descriptors and Extended Connectivity Fingerprint.\n",
        "\n",
        "For this, RDKit python library needs to be installed, as it is not a default library in Google Colab."
      ],
      "metadata": {
        "id": "TES3n141ML1p"
      }
    },
    {
      "cell_type": "code",
      "source": [
        "!pip install rdkit-pypi"
      ],
      "metadata": {
        "id": "fGMY6uMcAXGh"
      },
      "execution_count": null,
      "outputs": []
    },
    {
      "cell_type": "markdown",
      "source": [
        "The first representation obtained are the 200 RDKit molecular descriptors. This descriptors are obtained using the isomeric smiles as input."
      ],
      "metadata": {
        "id": "oQcp5RrVNR-0"
      }
    },
    {
      "cell_type": "code",
      "source": [
        "''' Import the RDKit libraries for molecular descriptor calculation'''\n",
        "\n",
        "from rdkit.Chem import Descriptors\n",
        "from rdkit.ML.Descriptors import MoleculeDescriptors\n",
        "from rdkit import Chem\n",
        "\n",
        "''' Create a fucntion that extract all the RDKit molecular descriptors'''\n",
        "\n",
        "def RDkit_descriptors(smiles):\n",
        "    mols = [Chem.MolFromSmiles(i) for i in smiles]\n",
        "    calc = MoleculeDescriptors.MolecularDescriptorCalculator([x[0] for x in Descriptors._descList])\n",
        "    desc_names = calc.GetDescriptorNames()\n",
        "\n",
        "    Mol_descriptors =[]\n",
        "\n",
        "    for mol in mols:\n",
        "        descriptors = calc.CalcDescriptors(mol)\n",
        "        Mol_descriptors.append(descriptors)\n",
        "    return Mol_descriptors,desc_names\n",
        "\n",
        "''' Call the fucntion that extract all the RDKit molecular descriptors'''\n",
        "\n",
        "Mol_descriptors,desc_names = RDkit_descriptors(non_matches ['Isomeric Smiles'])\n",
        "\n",
        "df_RDKit_descriptors = pd.DataFrame(Mol_descriptors,columns=desc_names)\n",
        "\n",
        "df_RDKit_descriptors.head()"
      ],
      "metadata": {
        "id": "N2zNUzjfAh4Z"
      },
      "execution_count": null,
      "outputs": []
    },
    {
      "cell_type": "markdown",
      "source": [
        "Before training the respective algorithms, the descriptors were cleaned by colineality and variance. Therefore, not all the 200 molecular descriptors will be accepted as input by the respective algorithms.\n",
        "\n",
        "It is necessary to filter the input descriptors. For this, the file containing the test data is used to filter the input columns."
      ],
      "metadata": {
        "id": "CRleF30gOI85"
      }
    },
    {
      "cell_type": "code",
      "source": [
        "RDKit_test = pd.read_excel('https://github.com/FabioHerrera97/FlavorMiner/raw/main/Data/RDKit_test.xlsx')\n",
        "\n",
        "x_RDKit_data = RDKit_test.drop(['Bitter', 'Floral', 'Fruity', 'Off_flavor', 'Nutty', 'Sour', 'Sweet'], axis=1)\n",
        "\n",
        "input_columns_names_RDKit = x_RDKit_data.columns.tolist()\n",
        "input_columns_names_RDKit\n",
        "\n",
        "input_RDKit = df_RDKit_descriptors[input_columns_names_RDKit]"
      ],
      "metadata": {
        "id": "URq1evOB4VUt"
      },
      "execution_count": null,
      "outputs": []
    },
    {
      "cell_type": "markdown",
      "source": [
        "The first representation obtained are the Extended Connectivity Fingerprint, with a radio of 2. This results in a binary vector with a lenth of 1024 bits.  "
      ],
      "metadata": {
        "id": "Ze05VOVEPihY"
      }
    },
    {
      "cell_type": "code",
      "source": [
        "from rdkit import Chem\n",
        "from rdkit.Chem import Descriptors\n",
        "from rdkit.ML.Descriptors import MoleculeDescriptors\n",
        "from rdkit import Chem\n",
        "from rdkit.Chem import AllChem\n",
        "\n",
        "''' Generate a molecule from each isomeric smiles'''\n",
        "\n",
        "smiles_non_matches = non_matches ['Isomeric Smiles']\n",
        "mols = [Chem.MolFromSmiles(i) for i in smiles_non_matches]\n",
        "\n",
        "''' Configure the extended connectivity fingerprint'''\n",
        "\n",
        "radius=2\n",
        "nBits=1024\n",
        "\n",
        "''' Calculate the ECFP for each molecule'''\n",
        "\n",
        "ECFP2 = [AllChem.GetMorganFingerprintAsBitVect(mol,radius=radius, nBits=nBits) for mol in mols]\n",
        "\n",
        "ecfp2_name = [f'Bit_{i}' for i in range(nBits)]\n",
        "ecfp2_bits = [list(l) for l in ECFP2]\n",
        "df_ecfp_2 = pd.DataFrame(ecfp2_bits, index = non_matches.index, columns = ecfp2_name)\n",
        "df_ecfp_2.head()"
      ],
      "metadata": {
        "id": "c5_ye9zKB23C"
      },
      "execution_count": null,
      "outputs": []
    },
    {
      "cell_type": "markdown",
      "source": [
        "Before training the respective algorithms, the descriptors were cleaned by colineality and variance. Therefore, not all the 200 molecular descriptors will be accepted as input by the respective algorithms.\n",
        "\n",
        "It is necessary to filter the input descriptors. For this, the file containing the test data is used to filter the input columns."
      ],
      "metadata": {
        "id": "7ZjaeQVsQ8K0"
      }
    },
    {
      "cell_type": "code",
      "source": [
        "columns_ecfp = pd.read_excel('https://github.com/FabioHerrera97/FlavorMiner/raw/main/Data/ECFP_test.xlsx')\n",
        "\n",
        "x_ECFP_data = columns_ecfp.drop(['Bitter', 'Floral', 'Fruity', 'Off_flavor', 'Nutty', 'Sour', 'Sweet'], axis=1)\n",
        "\n",
        "input_bits = x_ECFP_data.columns.tolist()\n",
        "\n",
        "input_ECFP = df_ecfp_2[input_bits]\n",
        "\n",
        "input_ECFP.head()"
      ],
      "metadata": {
        "id": "ly_AgxLc2C48"
      },
      "execution_count": null,
      "outputs": []
    },
    {
      "cell_type": "markdown",
      "source": [
        "# 5. Performing the prediction on those compounds with unknown flavor profiles.\n",
        "\n",
        "The first step to perform the prediction is to import the models. These models are stored in a Zenodo repository ([https://zenodo.org/records/8435106](https://)). These model were stored in Zeno because they exceded the maximum size allowed by GitHub."
      ],
      "metadata": {
        "id": "H9zB2LwyRF8a"
      }
    },
    {
      "cell_type": "markdown",
      "source": [
        "After importing the models, the prediction is run. Similarly, the probability is calculated as measure of the confidence of the prediction for each entry.\n",
        "\n",
        "This process is first performed for the models trained with Extended Connectivity Fingerprint."
      ],
      "metadata": {
        "id": "4HFY4Ear3jQz"
      }
    },
    {
      "cell_type": "code",
      "source": [
        "import joblib\n",
        "import numpy as np\n",
        "\n",
        "ecfp_model_urls = [\n",
        "    'https://zenodo.org/records/8435106/files/Bitter_Random_Forest_SMOTE.sav?download=1',\n",
        "    'https://zenodo.org/records/8435106/files/Sour_KNN_SMOTE.sav?download=1',\n",
        "    'https://zenodo.org/records/8435106/files/Fruity_Random_Forest_SMOTE.sav?download=1',\n",
        "    'https://zenodo.org/records/10033243/files/Sweet_updated_RF_Final.sav?download=1',\n",
        "]\n",
        "\n",
        "# Download the model files from Zenodo and load them\n",
        "ecfp_models = []\n",
        "\n",
        "for model_url in ecfp_model_urls:\n",
        "    model_file_name = model_url.split('/')[-1]\n",
        "    !wget -O {model_file_name} {model_url}\n",
        "    model = joblib.load(model_file_name)\n",
        "    ecfp_models.append(model)\n",
        "\n",
        "predictions_ecfp = []\n",
        "positive_probabilities_ecfp = []\n",
        "\n",
        "for model in ecfp_models:\n",
        "    probabilities = model.predict_proba(input_ECFP)\n",
        "    positive_probabilities = probabilities[:, 0]\n",
        "    predictions = model.predict(input_ECFP)\n",
        "    predictions_ecfp.append(predictions)\n",
        "    positive_probabilities_ecfp.append(positive_probabilities)\n",
        "\n",
        "Bitter, Sour, Fruity, Sweet = predictions_ecfp\n",
        "Bitter_pos_proba, Sour_pos_proba, Fruity_pos_proba, Sweet_pos_proba = positive_probabilities_ecfp\n"
      ],
      "metadata": {
        "id": "RKAGrnjdZkDt"
      },
      "execution_count": null,
      "outputs": []
    },
    {
      "cell_type": "markdown",
      "source": [
        "Then, the process is repeated for the models trained with RDKit molecular descriptors."
      ],
      "metadata": {
        "id": "A4eHSS4Q4cxX"
      }
    },
    {
      "cell_type": "code",
      "source": [
        "# Define the Zenodo model file URLs\n",
        "\n",
        "rdkit_model_urls = [\n",
        "    'https://zenodo.org/records/8435106/files/Off_flavor_Random_Forest_SMOTE_RDKit.sav?download=1',\n",
        "    'https://zenodo.org/records/8435106/files/Floral_Random_Forest_SMOTE_RDKit.sav?download=1',\n",
        "    'https://zenodo.org/records/8435106/files/Nutty_Random_Forest_SMOTE_RDKit.sav?download=1'\n",
        "]\n",
        "\n",
        "# Download the model files from Zenodo and load them\n",
        "\n",
        "rdkit_models = []\n",
        "positive_probabilities_rdkit = []\n",
        "negative_probabilities_rdkit = []\n",
        "predictions_rdkit = []\n",
        "\n",
        "for model_url in rdkit_model_urls:\n",
        "    model_file_name = model_url.split('/')[-1]\n",
        "    !wget -O {model_file_name} {model_url}\n",
        "    model = joblib.load(model_file_name)\n",
        "    rdkit_models.append(model)\n",
        "\n",
        "for model in rdkit_models:\n",
        "    probabilities = model.predict_proba(input_RDKit)\n",
        "    positive_probabilities = probabilities[:, 1]\n",
        "    negative_probabilities = probabilities[:, 0]\n",
        "    predictions = model.predict(input_RDKit)\n",
        "    predictions_rdkit.append(predictions)\n",
        "    positive_probabilities_rdkit.append(positive_probabilities)\n",
        "    negative_probabilities_rdkit.append(negative_probabilities)\n",
        "\n",
        "Off_flavor, Floral, Nutty = predictions_rdkit\n",
        "Off_flavor_pos_proba, Floral_pos_proba, Nutty_pos_proba = positive_probabilities_rdkit\n",
        "Off_flavor_neg_proba, Floral_neg_proba, Nutty_neg_proba = negative_probabilities_rdkit"
      ],
      "metadata": {
        "id": "GulPu4KPzV-y"
      },
      "execution_count": null,
      "outputs": []
    },
    {
      "cell_type": "markdown",
      "source": [
        "# 6. Results saving and visualization\n",
        "\n",
        "The results of the predictions are then organized in a table. This table contains the preexisting information in the input data,the flavor profile of the compounds and the source of this flavor profile (wether it was a database match or a prediction)\n",
        "\n",
        "First, the predicted labels as well as a column indicating that this data is the result of a prediction are added to the data with uknown flavor profiles.\n"
      ],
      "metadata": {
        "id": "NNE7AdYO4oVX"
      }
    },
    {
      "cell_type": "code",
      "source": [
        "Source = [\"prediction\"] * (len(non_matches))"
      ],
      "metadata": {
        "id": "5piJPyCc25Uh"
      },
      "execution_count": null,
      "outputs": []
    },
    {
      "cell_type": "code",
      "source": [
        "# Create a dictionary with the lists as values\n",
        "new_columns = {\n",
        "    'Bitter': Bitter,\n",
        "    'Floral': Floral,\n",
        "    'Fruity': Fruity,\n",
        "    'Off_flavor': Off_flavor,\n",
        "    'Nutty': Nutty,\n",
        "    'Sour': Sour,\n",
        "    'Sweet': Sweet,\n",
        "    'Source': Source\n",
        "}\n",
        "\n",
        "new_non_matches = non_matches.copy()  # Create a copy to avoid modifying the original DataFrame\n",
        "\n",
        "for column_name, values in new_columns.items():\n",
        "    new_non_matches[column_name] = values\n",
        "\n",
        "new_non_matches.head()"
      ],
      "metadata": {
        "id": "vBwaiVtD3MCh"
      },
      "execution_count": null,
      "outputs": []
    },
    {
      "cell_type": "markdown",
      "source": [
        "Second, the database matches are combined with predictions and plot using radar curve. This radar curve contains the frequency of compounds containing in their flavor profiles the 7 target flavors."
      ],
      "metadata": {
        "id": "RCyLbD3iOBzJ"
      }
    },
    {
      "cell_type": "code",
      "source": [
        "combined_data = pd.concat([db_matches, new_non_matches], ignore_index=True)\n",
        "\n",
        "combined_data.sample(5)"
      ],
      "metadata": {
        "id": "wQoUtVlS5tea"
      },
      "execution_count": null,
      "outputs": []
    },
    {
      "cell_type": "code",
      "source": [
        "import matplotlib.pyplot as plt\n",
        "import numpy as np\n",
        "\n",
        "categories = ['Bitter', 'Floral', 'Fruity', 'Nutty', 'Sweet', 'Off_flavor', 'Sour']\n",
        "values = [combined_data[col].sum() for col in categories]\n",
        "\n",
        "num_categories = len(categories)\n",
        "angles = np.linspace(0, 2 * np.pi, num_categories, endpoint=False).tolist()\n",
        "angles += angles[:1]\n",
        "\n",
        "values += values[:1]\n",
        "\n",
        "plt.figure(figsize=(8, 6))\n",
        "ax = plt.subplot(111, polar=True)\n",
        "ax.fill(angles, values, 'b', alpha=0.25)\n",
        "ax.set_xticks(angles[:-1])\n",
        "ax.set_xticklabels(categories)\n",
        "\n",
        "plt.savefig('Flavor profile.jpeg', format='jpeg', dpi=2000)"
      ],
      "metadata": {
        "id": "apJFYUpQ8UQN"
      },
      "execution_count": null,
      "outputs": []
    },
    {
      "cell_type": "markdown",
      "source": [
        "Third, the data is stored in an excel file. Even though this data is combined, the dataframe contains a column name Source indicating if the result id the product of a prediction or a database hit.\n",
        "\n",
        "Additionally, the results of the 7 binary variables associated with the flavor are combined into a single variable, and these binary variables are dropped."
      ],
      "metadata": {
        "id": "Mv36xy2TP-uM"
      }
    },
    {
      "cell_type": "code",
      "source": [
        "new_combined_data = combined_data.copy()\n",
        "\n",
        "columns=['Bitter', 'Floral', 'Fruity', 'Off_flavor', 'Nutty', 'Sour', 'Sweet']\n",
        "\n",
        "flavor_profiles = []\n",
        "\n",
        "for col in columns:\n",
        "    flavor_profiles.append(col)\n",
        "\n",
        "new_combined_data['Flavor_profile'] = new_combined_data[flavor_profiles].apply(lambda x: ', '.join(x.index[x == 1]), axis=1)\n",
        "\n",
        "new_combined_data = new_combined_data.drop(columns=flavor_profiles)\n",
        "\n",
        "new_combined_data.to_excel('Flavor profile.xlsx', index=False)"
      ],
      "metadata": {
        "id": "J6dsAvB8YXfy"
      },
      "execution_count": null,
      "outputs": []
    },
    {
      "cell_type": "markdown",
      "source": [
        "Finally, a new dataframe containing only data resulted from the prediction is created. This dataframe contains a column with the probability calculated during the prediction. This probability is offered a measure of the confidence of the prediction.\n",
        "\n",
        "This final probability is calculated as the average probability of the flavor notes predicted as positive for each entry. The results are sorted in descending oreder and stored in an excel file"
      ],
      "metadata": {
        "id": "pA9cclYUSGcl"
      }
    },
    {
      "cell_type": "code",
      "source": [
        "new_columns_2 = {\n",
        "    'Bitter': Bitter,\n",
        "    'Floral': Floral,\n",
        "    'Fruity': Fruity,\n",
        "    'Off_flavor': Off_flavor,\n",
        "    'Nutty': Nutty,\n",
        "    'Sour': Sour,\n",
        "    'Sweet': Sweet,\n",
        "\n",
        "    'Bitter probability': Bitter_pos_proba,\n",
        "    'Sour probability': Sour_pos_proba,\n",
        "    'Fruity probability': Fruity_pos_proba,\n",
        "    'Sweet probability': Sweet_pos_proba,\n",
        "    'Off_flavor probability': Off_flavor_pos_proba,\n",
        "    'Floral probability': Floral_pos_proba,\n",
        "    'Nutty probability': Nutty_pos_proba,\n",
        "}\n",
        "\n",
        "probability_data = non_matches.copy()  # Create a copy to avoid modifying the original DataFrame\n",
        "\n",
        "for column_name, values in new_columns_2.items():\n",
        "    probability_data [column_name] = values\n",
        "\n",
        "probability_data .head()"
      ],
      "metadata": {
        "id": "Xbn0XWCwgQZQ"
      },
      "execution_count": null,
      "outputs": []
    },
    {
      "cell_type": "code",
      "source": [
        "columns_to_check = ['Bitter', 'Sour', 'Fruity', 'Sweet', 'Off_flavor', 'Floral', 'Nutty']\n",
        "\n",
        "# Create a mask for entries with value 1 in any of the flavor columns\n",
        "flavor_mask = probability_data[columns_to_check].eq(1).any(axis=1)\n",
        "\n",
        "# Create a 'profile' column containing names of columns set to 1\n",
        "probability_data['Profile'] = probability_data[columns_to_check].apply(\n",
        "    lambda row: ', '.join([col for col, val in zip(columns_to_check, row) if val == 1]), axis=1)\n",
        "\n",
        "# Calculate average positive and negative probabilities for entries with value 1 in any flavor column\n",
        "probability_data['Average Positive Probability'] = probability_data.loc[flavor_mask][[f\"{col} probability\" for col in columns_to_check]].mean(axis=1)"
      ],
      "metadata": {
        "id": "R4RcL23_khH4"
      },
      "execution_count": null,
      "outputs": []
    },
    {
      "cell_type": "code",
      "source": [
        "probability_data.to_excel('Probability data.xlsx', index=False)"
      ],
      "metadata": {
        "id": "winpds7dtctz"
      },
      "execution_count": null,
      "outputs": []
    }
  ]
}