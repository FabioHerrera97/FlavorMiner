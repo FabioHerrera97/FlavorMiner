{
 "cells": [
  {
   "cell_type": "code",
   "execution_count": 1,
   "metadata": {},
   "outputs": [],
   "source": [
    "import warnings\n",
    "warnings.filterwarnings('ignore')"
   ]
  },
  {
   "cell_type": "code",
   "execution_count": 4,
   "metadata": {},
   "outputs": [],
   "source": [
    "import pandas as pd \n",
    "import sys\n",
    "sys.path.insert(0, '../src/')"
   ]
  },
  {
   "cell_type": "code",
   "execution_count": 12,
   "metadata": {},
   "outputs": [],
   "source": [
    "from data_preprocessing import DataPreprocessor"
   ]
  },
  {
   "cell_type": "code",
   "execution_count": 11,
   "metadata": {},
   "outputs": [
    {
     "data": {
      "text/html": [
       "<div>\n",
       "<style scoped>\n",
       "    .dataframe tbody tr th:only-of-type {\n",
       "        vertical-align: middle;\n",
       "    }\n",
       "\n",
       "    .dataframe tbody tr th {\n",
       "        vertical-align: top;\n",
       "    }\n",
       "\n",
       "    .dataframe thead th {\n",
       "        text-align: right;\n",
       "    }\n",
       "</style>\n",
       "<table border=\"1\" class=\"dataframe\">\n",
       "  <thead>\n",
       "    <tr style=\"text-align: right;\">\n",
       "      <th></th>\n",
       "      <th>Compound Name</th>\n",
       "      <th>pubChem ID</th>\n",
       "      <th>flavor profile</th>\n",
       "      <th>smiles</th>\n",
       "      <th>Source</th>\n",
       "      <th>Aroma Taste Threshold Values</th>\n",
       "    </tr>\n",
       "  </thead>\n",
       "  <tbody>\n",
       "    <tr>\n",
       "      <th>0</th>\n",
       "      <td>1-Aminopropan-2-ol</td>\n",
       "      <td>4</td>\n",
       "      <td>fishy</td>\n",
       "      <td>CC(CN)O</td>\n",
       "      <td>flavorDB</td>\n",
       "      <td>Aroma Threshold Values:Detection at 28 ppm in ...</td>\n",
       "    </tr>\n",
       "    <tr>\n",
       "      <th>1</th>\n",
       "      <td>2-Deoxyhexopyranose</td>\n",
       "      <td>40</td>\n",
       "      <td>sweet</td>\n",
       "      <td>C1C(C(C(OC1O)CO)O)O</td>\n",
       "      <td>flavorDB</td>\n",
       "      <td>The Aroma/Taste threshold values foris unknown</td>\n",
       "    </tr>\n",
       "    <tr>\n",
       "      <th>2</th>\n",
       "      <td>3-Methyl-2-oxovaleric acid</td>\n",
       "      <td>47</td>\n",
       "      <td>fruit</td>\n",
       "      <td>CCC(C)C(=O)C(=O)O</td>\n",
       "      <td>flavorDB</td>\n",
       "      <td>The Aroma/Taste threshold values for3-METHYL-2...</td>\n",
       "    </tr>\n",
       "    <tr>\n",
       "      <th>3</th>\n",
       "      <td>3-Methyl-2-oxobutanoic acid</td>\n",
       "      <td>49</td>\n",
       "      <td>fruity</td>\n",
       "      <td>CC(C)C(=O)C(=O)O</td>\n",
       "      <td>flavorDB</td>\n",
       "      <td>The Aroma/Taste threshold values for3-METHYL-2...</td>\n",
       "    </tr>\n",
       "    <tr>\n",
       "      <th>4</th>\n",
       "      <td>2-ketoglutaric acid</td>\n",
       "      <td>51</td>\n",
       "      <td>odorless</td>\n",
       "      <td>C(CC(=O)O)C(=O)C(=O)O</td>\n",
       "      <td>flavorDB</td>\n",
       "      <td>The Aroma/Taste threshold values for2-OXOPENTA...</td>\n",
       "    </tr>\n",
       "  </tbody>\n",
       "</table>\n",
       "</div>"
      ],
      "text/plain": [
       "                 Compound Name  ...                       Aroma Taste Threshold Values\n",
       "0           1-Aminopropan-2-ol  ...  Aroma Threshold Values:Detection at 28 ppm in ...\n",
       "1          2-Deoxyhexopyranose  ...     The Aroma/Taste threshold values foris unknown\n",
       "2   3-Methyl-2-oxovaleric acid  ...  The Aroma/Taste threshold values for3-METHYL-2...\n",
       "3  3-Methyl-2-oxobutanoic acid  ...  The Aroma/Taste threshold values for3-METHYL-2...\n",
       "4          2-ketoglutaric acid  ...  The Aroma/Taste threshold values for2-OXOPENTA...\n",
       "\n",
       "[5 rows x 6 columns]"
      ]
     },
     "execution_count": 11,
     "metadata": {},
     "output_type": "execute_result"
    }
   ],
   "source": [
    "data = pd.read_csv('../Data/threshold_data.csv')\n",
    "data.head()"
   ]
  },
  {
   "cell_type": "code",
   "execution_count": 14,
   "metadata": {},
   "outputs": [
    {
     "data": {
      "text/html": [
       "<div>\n",
       "<style scoped>\n",
       "    .dataframe tbody tr th:only-of-type {\n",
       "        vertical-align: middle;\n",
       "    }\n",
       "\n",
       "    .dataframe tbody tr th {\n",
       "        vertical-align: top;\n",
       "    }\n",
       "\n",
       "    .dataframe thead th {\n",
       "        text-align: right;\n",
       "    }\n",
       "</style>\n",
       "<table border=\"1\" class=\"dataframe\">\n",
       "  <thead>\n",
       "    <tr style=\"text-align: right;\">\n",
       "      <th></th>\n",
       "      <th>Compound Name</th>\n",
       "      <th>pubChem ID</th>\n",
       "      <th>flavor profile</th>\n",
       "      <th>smiles</th>\n",
       "      <th>Source</th>\n",
       "      <th>Aroma Taste Threshold Values</th>\n",
       "    </tr>\n",
       "  </thead>\n",
       "  <tbody>\n",
       "    <tr>\n",
       "      <th>0</th>\n",
       "      <td>1-Aminopropan-2-ol</td>\n",
       "      <td>4</td>\n",
       "      <td>fishy</td>\n",
       "      <td>CC(CN)O</td>\n",
       "      <td>flavorDB</td>\n",
       "      <td>Aroma Threshold Values:Detection at 28 ppm in ...</td>\n",
       "    </tr>\n",
       "    <tr>\n",
       "      <th>5</th>\n",
       "      <td>2-oxobutanoic acid</td>\n",
       "      <td>58</td>\n",
       "      <td>brown,caramel,lactonic,sweet,creamy</td>\n",
       "      <td>CCC(=O)C(=O)O</td>\n",
       "      <td>flavorDB</td>\n",
       "      <td>Taste Threshold Values:Taste characteristics a...</td>\n",
       "    </tr>\n",
       "    <tr>\n",
       "      <th>9</th>\n",
       "      <td>4-aminobutyric acid</td>\n",
       "      <td>119</td>\n",
       "      <td>savory,meaty</td>\n",
       "      <td>C(CC(=O)O)CN</td>\n",
       "      <td>flavorDB</td>\n",
       "      <td>Aroma Threshold Values:Medium strength odor</td>\n",
       "    </tr>\n",
       "    <tr>\n",
       "      <th>12</th>\n",
       "      <td>4-Hydroxybenzoic Acid</td>\n",
       "      <td>135</td>\n",
       "      <td>nutty,phenolic</td>\n",
       "      <td>C1=CC(=CC=C1C(=O)O)O</td>\n",
       "      <td>flavorDB</td>\n",
       "      <td>Aroma Threshold Values:Detection at 5 ppm (water)</td>\n",
       "    </tr>\n",
       "    <tr>\n",
       "      <th>13</th>\n",
       "      <td>acetic acid</td>\n",
       "      <td>176</td>\n",
       "      <td>sour,pungent,sharp,vinegar</td>\n",
       "      <td>CC(=O)O</td>\n",
       "      <td>flavorDB</td>\n",
       "      <td>Taste Threshold Values:Taste characteristics a...</td>\n",
       "    </tr>\n",
       "  </tbody>\n",
       "</table>\n",
       "</div>"
      ],
      "text/plain": [
       "            Compound Name  ...                       Aroma Taste Threshold Values\n",
       "0      1-Aminopropan-2-ol  ...  Aroma Threshold Values:Detection at 28 ppm in ...\n",
       "5      2-oxobutanoic acid  ...  Taste Threshold Values:Taste characteristics a...\n",
       "9     4-aminobutyric acid  ...        Aroma Threshold Values:Medium strength odor\n",
       "12  4-Hydroxybenzoic Acid  ...  Aroma Threshold Values:Detection at 5 ppm (water)\n",
       "13            acetic acid  ...  Taste Threshold Values:Taste characteristics a...\n",
       "\n",
       "[5 rows x 6 columns]"
      ]
     },
     "execution_count": 14,
     "metadata": {},
     "output_type": "execute_result"
    }
   ],
   "source": [
    "new_data = DataPreprocessor.clean_unknow_threshold('../Data/threshold_data.csv', 'Aroma Taste Threshold Values')\n",
    "new_data.head()"
   ]
  },
  {
   "cell_type": "code",
   "execution_count": 15,
   "metadata": {},
   "outputs": [
    {
     "name": "stdout",
     "output_type": "stream",
     "text": [
      "<class 'pandas.core.frame.DataFrame'>\n",
      "Index: 1325 entries, 0 to 9118\n",
      "Data columns (total 6 columns):\n",
      " #   Column                        Non-Null Count  Dtype \n",
      "---  ------                        --------------  ----- \n",
      " 0   Compound Name                 1325 non-null   object\n",
      " 1   pubChem ID                    1325 non-null   object\n",
      " 2   flavor profile                1325 non-null   object\n",
      " 3   smiles                        1325 non-null   object\n",
      " 4   Source                        1325 non-null   object\n",
      " 5   Aroma Taste Threshold Values  1325 non-null   object\n",
      "dtypes: object(6)\n",
      "memory usage: 72.5+ KB\n"
     ]
    }
   ],
   "source": [
    "new_data.info()"
   ]
  }
 ],
 "metadata": {
  "kernelspec": {
   "display_name": "cheminformatics",
   "language": "python",
   "name": "python3"
  },
  "language_info": {
   "codemirror_mode": {
    "name": "ipython",
    "version": 3
   },
   "file_extension": ".py",
   "mimetype": "text/x-python",
   "name": "python",
   "nbconvert_exporter": "python",
   "pygments_lexer": "ipython3",
   "version": "3.11.11"
  }
 },
 "nbformat": 4,
 "nbformat_minor": 2
}
