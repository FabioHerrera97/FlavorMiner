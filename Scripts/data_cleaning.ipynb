{
 "cells": [
  {
   "cell_type": "code",
   "execution_count": 1,
   "metadata": {},
   "outputs": [],
   "source": [
    "import warnings\n",
    "warnings.filterwarnings('ignore')"
   ]
  },
  {
   "cell_type": "code",
   "execution_count": 16,
   "metadata": {},
   "outputs": [],
   "source": [
    "import pandas as pd \n",
    "import sys\n",
    "sys.path.insert(0, '../src/')"
   ]
  },
  {
   "cell_type": "code",
   "execution_count": 17,
   "metadata": {},
   "outputs": [],
   "source": [
    "from data_preprocessing import DataPreprocessor"
   ]
  },
  {
   "cell_type": "code",
   "execution_count": 11,
   "metadata": {},
   "outputs": [
    {
     "data": {
      "text/html": [
       "<div>\n",
       "<style scoped>\n",
       "    .dataframe tbody tr th:only-of-type {\n",
       "        vertical-align: middle;\n",
       "    }\n",
       "\n",
       "    .dataframe tbody tr th {\n",
       "        vertical-align: top;\n",
       "    }\n",
       "\n",
       "    .dataframe thead th {\n",
       "        text-align: right;\n",
       "    }\n",
       "</style>\n",
       "<table border=\"1\" class=\"dataframe\">\n",
       "  <thead>\n",
       "    <tr style=\"text-align: right;\">\n",
       "      <th></th>\n",
       "      <th>Compound Name</th>\n",
       "      <th>pubChem ID</th>\n",
       "      <th>flavor profile</th>\n",
       "      <th>smiles</th>\n",
       "      <th>Source</th>\n",
       "      <th>Aroma Taste Threshold Values</th>\n",
       "    </tr>\n",
       "  </thead>\n",
       "  <tbody>\n",
       "    <tr>\n",
       "      <th>0</th>\n",
       "      <td>1-Aminopropan-2-ol</td>\n",
       "      <td>4</td>\n",
       "      <td>fishy</td>\n",
       "      <td>CC(CN)O</td>\n",
       "      <td>flavorDB</td>\n",
       "      <td>Aroma Threshold Values:Detection at 28 ppm in ...</td>\n",
       "    </tr>\n",
       "    <tr>\n",
       "      <th>1</th>\n",
       "      <td>2-Deoxyhexopyranose</td>\n",
       "      <td>40</td>\n",
       "      <td>sweet</td>\n",
       "      <td>C1C(C(C(OC1O)CO)O)O</td>\n",
       "      <td>flavorDB</td>\n",
       "      <td>The Aroma/Taste threshold values foris unknown</td>\n",
       "    </tr>\n",
       "    <tr>\n",
       "      <th>2</th>\n",
       "      <td>3-Methyl-2-oxovaleric acid</td>\n",
       "      <td>47</td>\n",
       "      <td>fruit</td>\n",
       "      <td>CCC(C)C(=O)C(=O)O</td>\n",
       "      <td>flavorDB</td>\n",
       "      <td>The Aroma/Taste threshold values for3-METHYL-2...</td>\n",
       "    </tr>\n",
       "    <tr>\n",
       "      <th>3</th>\n",
       "      <td>3-Methyl-2-oxobutanoic acid</td>\n",
       "      <td>49</td>\n",
       "      <td>fruity</td>\n",
       "      <td>CC(C)C(=O)C(=O)O</td>\n",
       "      <td>flavorDB</td>\n",
       "      <td>The Aroma/Taste threshold values for3-METHYL-2...</td>\n",
       "    </tr>\n",
       "    <tr>\n",
       "      <th>4</th>\n",
       "      <td>2-ketoglutaric acid</td>\n",
       "      <td>51</td>\n",
       "      <td>odorless</td>\n",
       "      <td>C(CC(=O)O)C(=O)C(=O)O</td>\n",
       "      <td>flavorDB</td>\n",
       "      <td>The Aroma/Taste threshold values for2-OXOPENTA...</td>\n",
       "    </tr>\n",
       "  </tbody>\n",
       "</table>\n",
       "</div>"
      ],
      "text/plain": [
       "                 Compound Name  ...                       Aroma Taste Threshold Values\n",
       "0           1-Aminopropan-2-ol  ...  Aroma Threshold Values:Detection at 28 ppm in ...\n",
       "1          2-Deoxyhexopyranose  ...     The Aroma/Taste threshold values foris unknown\n",
       "2   3-Methyl-2-oxovaleric acid  ...  The Aroma/Taste threshold values for3-METHYL-2...\n",
       "3  3-Methyl-2-oxobutanoic acid  ...  The Aroma/Taste threshold values for3-METHYL-2...\n",
       "4          2-ketoglutaric acid  ...  The Aroma/Taste threshold values for2-OXOPENTA...\n",
       "\n",
       "[5 rows x 6 columns]"
      ]
     },
     "execution_count": 11,
     "metadata": {},
     "output_type": "execute_result"
    }
   ],
   "source": [
    "data = pd.read_csv('../Data/threshold_data.csv')\n",
    "data.head()"
   ]
  },
  {
   "cell_type": "code",
   "execution_count": 26,
   "metadata": {},
   "outputs": [
    {
     "ename": "TypeError",
     "evalue": "DataPreprocessor() takes no arguments",
     "output_type": "error",
     "traceback": [
      "\u001b[0;31m---------------------------------------------------------------------------\u001b[0m",
      "\u001b[0;31mTypeError\u001b[0m                                 Traceback (most recent call last)",
      "Cell \u001b[0;32mIn[26], line 1\u001b[0m\n\u001b[0;32m----> 1\u001b[0m preprocessor \u001b[38;5;241m=\u001b[39m \u001b[43mDataPreprocessor\u001b[49m\u001b[43m(\u001b[49m\u001b[43mdata\u001b[49m\u001b[43m)\u001b[49m\n\u001b[1;32m      2\u001b[0m new_data \u001b[38;5;241m=\u001b[39m preprocessor\u001b[38;5;241m.\u001b[39mclean_unknow_threshold(\u001b[38;5;124m'\u001b[39m\u001b[38;5;124mAroma Taste Threshold Values\u001b[39m\u001b[38;5;124m'\u001b[39m)\n\u001b[1;32m      3\u001b[0m new_data\u001b[38;5;241m.\u001b[39mhead()\n",
      "\u001b[0;31mTypeError\u001b[0m: DataPreprocessor() takes no arguments"
     ]
    }
   ],
   "source": [
    "preprocessor = DataPreprocessor()\n",
    "new_data = preprocessor.clean_unknow_threshold('Aroma Taste Threshold Values')\n",
    "new_data.head()"
   ]
  },
  {
   "cell_type": "code",
   "execution_count": 19,
   "metadata": {},
   "outputs": [],
   "source": [
    "new_data.to_csv('../Data/flavorDBthreshold.csv')"
   ]
  }
 ],
 "metadata": {
  "kernelspec": {
   "display_name": "cheminformatics",
   "language": "python",
   "name": "python3"
  },
  "language_info": {
   "codemirror_mode": {
    "name": "ipython",
    "version": 3
   },
   "file_extension": ".py",
   "mimetype": "text/x-python",
   "name": "python",
   "nbconvert_exporter": "python",
   "pygments_lexer": "ipython3",
   "version": "3.11.11"
  }
 },
 "nbformat": 4,
 "nbformat_minor": 2
}
